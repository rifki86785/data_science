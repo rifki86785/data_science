{
  "cells": [
    {
      "cell_type": "markdown",
      "id": "f84a8349",
      "metadata": {
        "id": "f84a8349"
      },
      "source": [
        "# 1. Fungsi print untuk menampilkan angka/huruf yang di inginkan\n"
      ]
    },
    {
      "cell_type": "code",
      "source": [],
      "metadata": {
        "id": "wLIXbDc75Dq2"
      },
      "id": "wLIXbDc75Dq2",
      "execution_count": 90,
      "outputs": []
    },
    {
      "cell_type": "code",
      "execution_count": 91,
      "id": "f0ea8565",
      "metadata": {
        "id": "f0ea8565",
        "colab": {
          "base_uri": "https://localhost:8080/"
        },
        "outputId": "c59224d7-a033-4f66-fdd5-ea29ee7151cf"
      },
      "outputs": [
        {
          "output_type": "stream",
          "name": "stdout",
          "text": [
            "rifki\n"
          ]
        }
      ],
      "source": [
        "print(\"rifki\")"
      ]
    },
    {
      "cell_type": "markdown",
      "id": "f89a03a9",
      "metadata": {
        "id": "f89a03a9"
      },
      "source": [
        "# 2. Variable\n",
        "variable adalah huruf/kata yang dipakai untuk menyimpan suatu nilai (karakter/continu)"
      ]
    },
    {
      "cell_type": "code",
      "execution_count": 92,
      "id": "fec8e64d",
      "metadata": {
        "id": "fec8e64d"
      },
      "outputs": [],
      "source": [
        "usia = 23\n",
        "nama = \"Reynold\"\n"
      ]
    },
    {
      "cell_type": "markdown",
      "id": "65b1f85e",
      "metadata": {
        "id": "65b1f85e"
      },
      "source": [
        "# 3. List dan Set\n",
        "tempat untuk mengumpulkan beberapa nilai"
      ]
    },
    {
      "cell_type": "code",
      "execution_count": 93,
      "id": "d46e7f21",
      "metadata": {
        "id": "d46e7f21",
        "colab": {
          "base_uri": "https://localhost:8080/"
        },
        "outputId": "558ab25c-a224-4b2b-afc4-27f6df2ce042"
      },
      "outputs": [
        {
          "output_type": "execute_result",
          "data": {
            "text/plain": [
              "[29, 30, 27, 25]"
            ]
          },
          "metadata": {},
          "execution_count": 93
        }
      ],
      "source": [
        "list_usia = [29,30,27,25]\n",
        "list_usia"
      ]
    },
    {
      "cell_type": "code",
      "execution_count": 94,
      "id": "7ba56e73",
      "metadata": {
        "id": "7ba56e73",
        "colab": {
          "base_uri": "https://localhost:8080/"
        },
        "outputId": "2997bf0a-4dce-4264-f933-ac9968d3667a"
      },
      "outputs": [
        {
          "output_type": "execute_result",
          "data": {
            "text/plain": [
              "(29, 30, 27, 25)"
            ]
          },
          "metadata": {},
          "execution_count": 94
        }
      ],
      "source": [
        "set_usia = (29,30,27,25)\n",
        "set_usia"
      ]
    },
    {
      "cell_type": "markdown",
      "id": "f6eeb8c2",
      "metadata": {
        "id": "f6eeb8c2"
      },
      "source": [
        "## 3.1. Append\n",
        "method untuk menambahkan item ke dalam list"
      ]
    },
    {
      "cell_type": "code",
      "execution_count": 95,
      "id": "2a8e0247",
      "metadata": {
        "colab": {
          "base_uri": "https://localhost:8080/"
        },
        "id": "2a8e0247",
        "outputId": "216ce929-bb11-493a-dc54-574bc857b5c4"
      },
      "outputs": [
        {
          "output_type": "execute_result",
          "data": {
            "text/plain": [
              "[29, 30, 27, 25, 50]"
            ]
          },
          "metadata": {},
          "execution_count": 95
        }
      ],
      "source": [
        "list_usia.append(50)\n",
        "list_usia"
      ]
    },
    {
      "cell_type": "markdown",
      "id": "c5718e44",
      "metadata": {
        "id": "c5718e44"
      },
      "source": [
        "## 3.2. Slicing"
      ]
    },
    {
      "cell_type": "code",
      "execution_count": 96,
      "id": "617b26ad",
      "metadata": {
        "colab": {
          "base_uri": "https://localhost:8080/"
        },
        "id": "617b26ad",
        "outputId": "fd8b140e-9c81-4ecb-a91a-9158bade828c"
      },
      "outputs": [
        {
          "output_type": "execute_result",
          "data": {
            "text/plain": [
              "27"
            ]
          },
          "metadata": {},
          "execution_count": 96
        }
      ],
      "source": [
        "list_usia[2]"
      ]
    },
    {
      "cell_type": "markdown",
      "id": "792b5b38",
      "metadata": {
        "id": "792b5b38"
      },
      "source": [
        "# 4. Looping/Iterasi"
      ]
    },
    {
      "cell_type": "code",
      "execution_count": 97,
      "id": "6bb03f49",
      "metadata": {
        "colab": {
          "base_uri": "https://localhost:8080/"
        },
        "id": "6bb03f49",
        "outputId": "e0ce1fa9-9149-4e3d-d942-8be724a8d6d4"
      },
      "outputs": [
        {
          "output_type": "execute_result",
          "data": {
            "text/plain": [
              "[0, 1, 2, 3, 4]"
            ]
          },
          "metadata": {},
          "execution_count": 97
        }
      ],
      "source": [
        "list_number = [i for i in range(5)]\n",
        "list_number"
      ]
    },
    {
      "cell_type": "code",
      "execution_count": 98,
      "id": "664c4fd9",
      "metadata": {
        "colab": {
          "base_uri": "https://localhost:8080/"
        },
        "id": "664c4fd9",
        "outputId": "3a944481-2e08-4151-da82-5b3b094123de"
      },
      "outputs": [
        {
          "output_type": "stream",
          "name": "stdout",
          "text": [
            "0\n",
            "1\n",
            "2\n",
            "3\n",
            "4\n"
          ]
        }
      ],
      "source": [
        "# semua item di list/set akan diproses\n",
        "for item in list_number:\n",
        "    print(item)"
      ]
    },
    {
      "cell_type": "code",
      "execution_count": 99,
      "id": "3c9e44ae",
      "metadata": {
        "colab": {
          "base_uri": "https://localhost:8080/"
        },
        "id": "3c9e44ae",
        "outputId": "9ff9e7af-9147-473d-da28-d42dddc4909b"
      },
      "outputs": [
        {
          "output_type": "stream",
          "name": "stdout",
          "text": [
            "1\n",
            "2\n",
            "3\n",
            "4\n",
            "5\n",
            "6\n",
            "7\n",
            "8\n",
            "9\n"
          ]
        }
      ],
      "source": [
        "for i in range(1,10):\n",
        "    print(i)"
      ]
    },
    {
      "cell_type": "markdown",
      "id": "7e79a3ba",
      "metadata": {
        "id": "7e79a3ba"
      },
      "source": [
        "# 5. Dictionary"
      ]
    },
    {
      "cell_type": "code",
      "execution_count": 100,
      "id": "433d068d",
      "metadata": {
        "id": "433d068d"
      },
      "outputs": [],
      "source": [
        "# key : value\n",
        "contoh_dict = {\"kakek\":\"orangtua laki-laki dari ayah\",\n",
        "               \"nenek\" : \"orangtua perempuan dari ibu\"}"
      ]
    },
    {
      "cell_type": "code",
      "execution_count": 101,
      "id": "450bd34e",
      "metadata": {
        "id": "450bd34e",
        "outputId": "6e03a22e-fb8e-47e0-92a3-a61101b1ffbb",
        "colab": {
          "base_uri": "https://localhost:8080/",
          "height": 35
        }
      },
      "outputs": [
        {
          "output_type": "execute_result",
          "data": {
            "text/plain": [
              "'orangtua laki-laki dari ayah'"
            ],
            "application/vnd.google.colaboratory.intrinsic+json": {
              "type": "string"
            }
          },
          "metadata": {},
          "execution_count": 101
        }
      ],
      "source": [
        "contoh_dict[\"kakek\"]"
      ]
    },
    {
      "cell_type": "markdown",
      "id": "e6de4403",
      "metadata": {
        "id": "e6de4403"
      },
      "source": [
        "# 6. Conditional"
      ]
    },
    {
      "cell_type": "code",
      "execution_count": 102,
      "id": "3c482dc4",
      "metadata": {
        "colab": {
          "base_uri": "https://localhost:8080/"
        },
        "id": "3c482dc4",
        "outputId": "2a4bcf67-bd8f-413c-ce42-d1e58442b766"
      },
      "outputs": [
        {
          "output_type": "stream",
          "name": "stdout",
          "text": [
            "AB\n"
          ]
        }
      ],
      "source": [
        "# klasifikasi nilai\n",
        "# nilai>=81 : \"A\"\n",
        "# 76<=nilai<81 : \"AB\"\n",
        "# nilai <76 : 'C'\n",
        "nilai = 80\n",
        "\n",
        "if nilai>=81:\n",
        "   print('A')\n",
        "elif nilai>=76 and nilai<81:\n",
        "    print('AB')\n",
        "else :\n",
        "    print('C')\n",
        "\n"
      ]
    },
    {
      "cell_type": "markdown",
      "id": "00703e69",
      "metadata": {
        "id": "00703e69"
      },
      "source": [
        "# 7. Fungsi\n",
        "membuat suatu formula/rumus yang dapat dipakai berulang-ulang"
      ]
    },
    {
      "cell_type": "code",
      "execution_count": 103,
      "id": "f9ed24f4",
      "metadata": {
        "id": "f9ed24f4"
      },
      "outputs": [],
      "source": [
        "def luaspp(p,l):\n",
        "    L= p*l\n",
        "    return L"
      ]
    },
    {
      "cell_type": "code",
      "execution_count": 104,
      "id": "5011ad9a",
      "metadata": {
        "id": "5011ad9a",
        "outputId": "8e97df35-0330-4e60-e1bf-5084db86173d",
        "colab": {
          "base_uri": "https://localhost:8080/"
        }
      },
      "outputs": [
        {
          "output_type": "execute_result",
          "data": {
            "text/plain": [
              "20"
            ]
          },
          "metadata": {},
          "execution_count": 104
        }
      ],
      "source": [
        "luaspp(4,5)"
      ]
    },
    {
      "cell_type": "code",
      "execution_count": 105,
      "id": "40c4563d",
      "metadata": {
        "id": "40c4563d",
        "outputId": "7cf25508-b256-4cf1-c5cc-7aebb91e2cec",
        "colab": {
          "base_uri": "https://localhost:8080/"
        }
      },
      "outputs": [
        {
          "output_type": "execute_result",
          "data": {
            "text/plain": [
              "24.0"
            ]
          },
          "metadata": {},
          "execution_count": 105
        }
      ],
      "source": [
        "luaspp(10,2.4)"
      ]
    },
    {
      "cell_type": "markdown",
      "id": "88f36fe3",
      "metadata": {
        "id": "88f36fe3"
      },
      "source": [
        "Buat kode untuk mencari luas lingkaran\n",
        "$L=\\frac{22}{7} \\times r^2$"
      ]
    },
    {
      "cell_type": "code",
      "execution_count": 108,
      "id": "05567ef5",
      "metadata": {
        "id": "05567ef5"
      },
      "outputs": [],
      "source": [
        "def luas_lingkaran(r):\n",
        "  \"\"\"\n",
        "  Fungsi untuk menghitung luas lingkaran.\n",
        "\n",
        "  Args:\n",
        "    r: Jari-jari lingkaran.\n",
        "\n",
        "  Returns:\n",
        "    Luas lingkaran.\n",
        "  \"\"\"\n",
        "  return (22/7) * (r**2)"
      ]
    },
    {
      "cell_type": "code",
      "source": [
        "def luas_lingkaran(5):\n",
        ""
      ],
      "metadata": {
        "colab": {
          "base_uri": "https://localhost:8080/",
          "height": 106
        },
        "id": "vc0SpHUi_zp0",
        "outputId": "dc770f80-c0fd-43ec-f6da-3f6663a08013"
      },
      "id": "vc0SpHUi_zp0",
      "execution_count": 111,
      "outputs": [
        {
          "output_type": "error",
          "ename": "SyntaxError",
          "evalue": "invalid syntax (<ipython-input-111-59b4fb510a43>, line 1)",
          "traceback": [
            "\u001b[0;36m  File \u001b[0;32m\"<ipython-input-111-59b4fb510a43>\"\u001b[0;36m, line \u001b[0;32m1\u001b[0m\n\u001b[0;31m    def luas_lingkaran(5):\u001b[0m\n\u001b[0m                       ^\u001b[0m\n\u001b[0;31mSyntaxError\u001b[0m\u001b[0;31m:\u001b[0m invalid syntax\n"
          ]
        }
      ]
    }
  ],
  "metadata": {
    "kernelspec": {
      "display_name": "Python 3 (ipykernel)",
      "language": "python",
      "name": "python3"
    },
    "language_info": {
      "codemirror_mode": {
        "name": "ipython",
        "version": 3
      },
      "file_extension": ".py",
      "mimetype": "text/x-python",
      "name": "python",
      "nbconvert_exporter": "python",
      "pygments_lexer": "ipython3",
      "version": "3.8.18"
    },
    "colab": {
      "provenance": []
    }
  },
  "nbformat": 4,
  "nbformat_minor": 5
}